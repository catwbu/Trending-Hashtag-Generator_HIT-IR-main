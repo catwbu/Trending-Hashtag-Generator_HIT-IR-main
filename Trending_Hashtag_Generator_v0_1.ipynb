{
  "cells": [
    {
      "cell_type": "markdown",
      "source": [
        "# Preloading\n"
      ],
      "metadata": {
        "id": "RuMlMx_bwEpF"
      }
    },
    {
      "cell_type": "code",
      "source": [
        "!pip3 install pytrends\n",
        "!pip3 install opencc-python-reimplemented\n",
        "from pytrends.request import TrendReq\n",
        "import pandas as pd\n",
        "import jieba\n",
        "import jieba.analyse\n",
        "import jieba.posseg as pseg\n",
        "from opencc import OpenCC\n",
        "from concurrent.futures import ThreadPoolExecutor\n",
        "import time\n",
        "from google.colab import drive\n",
        "drive.mount('/content/drive/')\n",
        "\n",
        "f=open('/content/drive/MyDrive/raw_txt.txt','r')\n",
        "lines=f.readlines()\n",
        "\n",
        "sym_words=[]\n",
        "sym_class_words=[]\n",
        "#同義詞詞集sym_words 相關詞詞集sym_class_words\n",
        "for line in lines:\n",
        "    line=line.replace('\\n','')\n",
        "    items=line.split(' ')\n",
        "    index=items[0]\n",
        "    if(index[-1]=='='):\n",
        "        sym_words.append(items[1:])\n",
        "\n",
        "    if (index[-1] == '#'):\n",
        "        sym_class_words.append(items[1:])"
      ],
      "metadata": {
        "id": "cIRNF2R1t4H1",
        "colab": {
          "base_uri": "https://localhost:8080/"
        },
        "outputId": "93214f31-f538-48c8-e809-e10ae9152583"
      },
      "execution_count": 1,
      "outputs": [
        {
          "output_type": "stream",
          "name": "stdout",
          "text": [
            "Collecting pytrends\n",
            "  Downloading pytrends-4.9.2-py3-none-any.whl (15 kB)\n",
            "Requirement already satisfied: requests>=2.0 in /usr/local/lib/python3.10/dist-packages (from pytrends) (2.31.0)\n",
            "Requirement already satisfied: pandas>=0.25 in /usr/local/lib/python3.10/dist-packages (from pytrends) (2.0.3)\n",
            "Requirement already satisfied: lxml in /usr/local/lib/python3.10/dist-packages (from pytrends) (4.9.4)\n",
            "Requirement already satisfied: python-dateutil>=2.8.2 in /usr/local/lib/python3.10/dist-packages (from pandas>=0.25->pytrends) (2.8.2)\n",
            "Requirement already satisfied: pytz>=2020.1 in /usr/local/lib/python3.10/dist-packages (from pandas>=0.25->pytrends) (2023.4)\n",
            "Requirement already satisfied: tzdata>=2022.1 in /usr/local/lib/python3.10/dist-packages (from pandas>=0.25->pytrends) (2024.1)\n",
            "Requirement already satisfied: numpy>=1.21.0 in /usr/local/lib/python3.10/dist-packages (from pandas>=0.25->pytrends) (1.25.2)\n",
            "Requirement already satisfied: charset-normalizer<4,>=2 in /usr/local/lib/python3.10/dist-packages (from requests>=2.0->pytrends) (3.3.2)\n",
            "Requirement already satisfied: idna<4,>=2.5 in /usr/local/lib/python3.10/dist-packages (from requests>=2.0->pytrends) (3.7)\n",
            "Requirement already satisfied: urllib3<3,>=1.21.1 in /usr/local/lib/python3.10/dist-packages (from requests>=2.0->pytrends) (2.0.7)\n",
            "Requirement already satisfied: certifi>=2017.4.17 in /usr/local/lib/python3.10/dist-packages (from requests>=2.0->pytrends) (2024.6.2)\n",
            "Requirement already satisfied: six>=1.5 in /usr/local/lib/python3.10/dist-packages (from python-dateutil>=2.8.2->pandas>=0.25->pytrends) (1.16.0)\n",
            "Installing collected packages: pytrends\n",
            "Successfully installed pytrends-4.9.2\n",
            "Collecting opencc-python-reimplemented\n",
            "  Downloading opencc_python_reimplemented-0.1.7-py2.py3-none-any.whl (481 kB)\n",
            "\u001b[2K     \u001b[90m━━━━━━━━━━━━━━━━━━━━━━━━━━━━━━━━━━━━━━━━\u001b[0m \u001b[32m481.8/481.8 kB\u001b[0m \u001b[31m5.8 MB/s\u001b[0m eta \u001b[36m0:00:00\u001b[0m\n",
            "\u001b[?25hInstalling collected packages: opencc-python-reimplemented\n",
            "Successfully installed opencc-python-reimplemented-0.1.7\n",
            "Mounted at /content/drive/\n"
          ]
        }
      ]
    },
    {
      "cell_type": "markdown",
      "source": [
        "# Setting"
      ],
      "metadata": {
        "id": "onuWqoZzwfjl"
      }
    },
    {
      "cell_type": "code",
      "source": [
        "#閥值\n",
        "if_popular = 0.1\n",
        "#線程數\n",
        "how_fast = 10\n",
        "\n",
        "howlong_sleep = 3"
      ],
      "metadata": {
        "id": "ErnOhMOcweZM"
      },
      "execution_count": 2,
      "outputs": []
    },
    {
      "cell_type": "markdown",
      "source": [
        "# Define\n"
      ],
      "metadata": {
        "id": "idhJaowhuMaj"
      }
    },
    {
      "cell_type": "code",
      "execution_count": 6,
      "metadata": {
        "id": "DLzd3Y-A18Hs"
      },
      "outputs": [],
      "source": [
        "def get_sym(w,word_set):\n",
        "    # w:  input word\n",
        "    # word_set: 同义词词集或相关词词集\n",
        "    results=[]\n",
        "    if(len(w)==1):\n",
        "        for each in word_set:\n",
        "            for word in each:\n",
        "                if w == word:\n",
        "                    results.append(each)\n",
        "                    break\n",
        "    else:\n",
        "        for each in word_set:\n",
        "            for word in each:\n",
        "                if w in word:\n",
        "                    results.append(each)\n",
        "                    break\n",
        "    return results\n",
        "\n",
        "#find good tag\n",
        "\n",
        "def get_good_friends(friend):\n",
        "  pytrend = TrendReq(hl='en-US', tz=360, timeout=(10,25))\n",
        "\n",
        "  global tag_pocket\n",
        "\n",
        "  cc = OpenCC('s2twp')\n",
        "  friend = cc.convert(friend)\n",
        "  if tag_master == friend: return\n",
        "\n",
        "  keywords = [tag_master, friend]\n",
        "  pytrend.build_payload(kw_list=keywords,cat=0,timeframe='today 1-m',geo='TW',gprop='')\n",
        "\n",
        "  df = pd.DataFrame(pytrend.interest_over_time())\n",
        "  print(tag_master,friend)\n",
        "  print(df[tag_master].mean(),df[friend].mean())\n",
        "\n",
        "  if if_popular*df[tag_master].mean() < df[friend].mean():\n",
        "    tag_pocket.append(friend)\n",
        "  time.sleep(howlong_sleep)\n",
        "  print()\n",
        "  return\n"
      ]
    },
    {
      "cell_type": "markdown",
      "source": [
        "# Input\n",
        "\n"
      ],
      "metadata": {
        "id": "4aNlBkb_vmk2"
      }
    },
    {
      "cell_type": "code",
      "source": [
        "ps=[]\n",
        "sen=[]\n",
        "\n",
        "\n",
        "input2=input('輸入一段文字:')\n",
        "\n",
        "cc = OpenCC('tw2sp')\n",
        "input2 = cc.convert(input2)\n",
        "tag_pocket = []\n",
        "tag_master = ''\n",
        "\n",
        "keywords = jieba.analyse.extract_tags(input2, topK=10, withWeight=True, allowPOS=('n','nr','ns','nrt','nrf','nrj'))\n",
        "\n",
        "\n",
        "for item,v in keywords:\n",
        "  test_list = []\n",
        "  precache=get_sym(item, sym_words)\n",
        "\n",
        "  cc = OpenCC('s2twp')\n",
        "  tag_master=cc.convert(item)\n",
        "  tag_pocket.append(tag_master)\n",
        "\n",
        "  print(tag_master)\n",
        "\n",
        "  if len(precache):\n",
        "    print(precache)\n",
        "    for j in precache:\n",
        "      for i in j:\n",
        "        test_list.append(i)\n",
        "  else:\n",
        "    continue\n",
        "\n",
        "  test_list.remove(item)\n",
        "  print(test_list)\n",
        "\n",
        "  with ThreadPoolExecutor(max_workers=how_fast) as executor:\n",
        "    executor.map(get_good_friends, test_list)\n",
        "\n",
        "\n",
        "#print(ps)"
      ],
      "metadata": {
        "id": "aKTcc6-Kwo85",
        "colab": {
          "base_uri": "https://localhost:8080/"
        },
        "outputId": "7e18bc4f-0a04-458a-ae82-18f57979fdb3"
      },
      "execution_count": null,
      "outputs": [
        {
          "output_type": "stream",
          "name": "stdout",
          "text": [
            "輸入一段文字:80/20法則，起源於20世紀初由義大利統計學家提出。他指出，在任何特定群體中，重要因素通常只占少數，而不重要因素則占多數。因此，只要能控制少數重要因素，就能控制全局。這個原理經過多年演化，成為當今管理學界熟知的二八法則，即80%的公司利潤來自20%的重要客戶，其餘20%的利潤來自80%的普通客戶。\n",
            "法則\n",
            "[['规律', '法则', '公例', '公理', '原理', '常理', '公设'], ['经济规律', '经济法则'], ['自然规律', '自然法则']]\n",
            "['规律', '公例', '公理', '原理', '常理', '公设', '经济规律', '经济法则', '自然规律', '自然法则']\n",
            "法則 原理\n",
            "19.59375 80.0\n",
            "法則 常理\n",
            "72.28125 1.1875\n",
            "法則 規律\n",
            "72.28125 5.3125\n",
            "法則 公設\n",
            "72.28125 25.84375\n",
            "法則 經濟法則\n",
            "72.28125 0.09375\n",
            "法則 公例\n",
            "72.28125 0.0625\n",
            "\n",
            "\n",
            "\n",
            "\n",
            "\n",
            "\n",
            "因素\n",
            "[['因素', '要素', '元素', '素']]\n",
            "['要素', '元素', '素']\n",
            "客戶\n",
            "利潤\n",
            "[['利润', '赢利', '盈利', '利', '赚头', '创收', '净收入', '净利润', '纯利润', '实利']]\n",
            "['赢利', '盈利', '利', '赚头', '创收', '净收入', '净利润', '纯利润', '实利']\n"
          ]
        }
      ]
    },
    {
      "cell_type": "markdown",
      "source": [
        "# Output\n"
      ],
      "metadata": {
        "id": "qvw3dPCIveKO"
      }
    },
    {
      "cell_type": "code",
      "source": [
        "#Output\n",
        "meow=list(set(tag_pocket))\n",
        "meow2=[]\n",
        "cc = OpenCC('tw2sp')\n",
        "\n",
        "\n",
        "for i in meow:\n",
        "  for w,tag in jieba.posseg.cut(cc.convert(i)):\n",
        "    if len(w) == 1:\n",
        "      if not 'n' in tag:\n",
        "        continue\n",
        "    meow2.append(OpenCC('s2twp').convert(w))\n",
        "\n",
        "print(meow2)\n",
        "sen=''\n",
        "print('for IG')\n",
        "print()\n",
        "for i in meow2:\n",
        "  sen=sen+'#'+str(i)\n",
        "print(sen)\n",
        "print()\n",
        "sen=''\n",
        "print('for YT')\n",
        "print()\n",
        "for i in meow2:\n",
        "  sen=sen+str(i)+','\n",
        "print(sen)"
      ],
      "metadata": {
        "id": "Q0hb1HE64H-b",
        "colab": {
          "base_uri": "https://localhost:8080/"
        },
        "outputId": "362939d9-85c2-415f-a8c2-7f0b6a76eadf"
      },
      "execution_count": 5,
      "outputs": [
        {
          "output_type": "stream",
          "name": "stdout",
          "text": [
            "['法則', '混亂', '自然法則', '風', '風俗', '心態', '證明', '民俗', '常理', '驗證', '錯雜', '習慣', '傳統', '狼藉', '雜亂', '冗雜', '淆亂', '公理', '認證', '神經遞質', '公設', '習俗', '證實', '情緒', '程度', '經濟', '規律', '亂七八糟', '心情', '說明', '錯亂', '混雜', '水準', '證', '原理', '糊塗', '作證', '規律', '水平', '紊亂', '印證', '零亂']\n",
            "for IG\n",
            "\n",
            "#法則#混亂#自然法則#風#風俗#心態#證明#民俗#常理#驗證#錯雜#習慣#傳統#狼藉#雜亂#冗雜#淆亂#公理#認證#神經遞質#公設#習俗#證實#情緒#程度#經濟#規律#亂七八糟#心情#說明#錯亂#混雜#水準#證#原理#糊塗#作證#規律#水平#紊亂#印證#零亂\n",
            "\n",
            "for YT\n",
            "\n",
            "法則,混亂,自然法則,風,風俗,心態,證明,民俗,常理,驗證,錯雜,習慣,傳統,狼藉,雜亂,冗雜,淆亂,公理,認證,神經遞質,公設,習俗,證實,情緒,程度,經濟,規律,亂七八糟,心情,說明,錯亂,混雜,水準,證,原理,糊塗,作證,規律,水平,紊亂,印證,零亂,\n"
          ]
        }
      ]
    }
  ],
  "metadata": {
    "colab": {
      "provenance": [],
      "collapsed_sections": [
        "Z1uwIGyajjuQ",
        "DgmjGOpFRgw6",
        "EJN2_y4F3oQk"
      ]
    },
    "kernelspec": {
      "display_name": "Python 3",
      "language": "python",
      "name": "python3"
    },
    "language_info": {
      "codemirror_mode": {
        "name": "ipython",
        "version": 3
      },
      "file_extension": ".py",
      "mimetype": "text/x-python",
      "name": "python",
      "nbconvert_exporter": "python",
      "pygments_lexer": "ipython3",
      "version": "3.7.4"
    }
  },
  "nbformat": 4,
  "nbformat_minor": 0
}